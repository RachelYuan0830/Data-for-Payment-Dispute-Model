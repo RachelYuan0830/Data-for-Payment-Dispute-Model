{
 "cells": [
  {
   "cell_type": "code",
   "execution_count": null,
   "id": "8d50cbf4-0c8d-4950-86cb-114990437ac9",
   "metadata": {
    "language": "sql",
    "name": "cell2"
   },
   "outputs": [],
   "source": [
    "SELECT *\n",
    "FROM fengyingyang.braintree_disputes\n",
    "LIMIT 50"
   ]
  },
  {
   "cell_type": "code",
   "execution_count": null,
   "id": "c695373e-ac74-4b62-a1f1-08206cbd5c81",
   "metadata": {
    "language": "sql",
    "name": "cell3"
   },
   "outputs": [],
   "source": [
    "SELECT *\n",
    "FROM risk_data_platform_prod.public.maindb_dispute_history\n",
    "WHERE pgp_code = 'braintree'\n",
    "LIMIT 50"
   ]
  },
  {
   "cell_type": "code",
   "execution_count": null,
   "id": "f7d238f5-ad8c-4fde-b107-191cd8f265ef",
   "metadata": {
    "language": "sql",
    "name": "cell1"
   },
   "outputs": [],
   "source": [
    "SELECT *\n",
    "FROM payment_service_prod.public.maindb_pgp_disputes\n",
    "\n",
    "LIMIT 50;"
   ]
  },
  {
   "cell_type": "code",
   "execution_count": null,
   "id": "6c9f0186-4e05-4b14-9eba-233dda7acea3",
   "metadata": {
    "language": "sql",
    "name": "cell5"
   },
   "outputs": [],
   "source": [
    "SELECT *\n",
    "FROM EDW.OPEX.FACT_FRAUD_DELIVERIES\n",
    "WHERE pgp_code = 'braintree'\n",
    "LIMIT 50;"
   ]
  },
  {
   "cell_type": "markdown",
   "id": "abf66b1c-37bb-43c0-8d6c-a7eacd93c18e",
   "metadata": {
    "collapsed": false,
    "name": "cell13"
   },
   "source": [
    "# payment_service_prod.public.maindb_disputes & payment_service_prod.public.maindb_pgp_disputes"
   ]
  },
  {
   "cell_type": "markdown",
   "id": "2657255e-eaa0-4b26-84f3-ad30676431e4",
   "metadata": {
    "collapsed": false,
    "name": "cell12"
   },
   "source": [
    "- payment_service_prod.public.maindb_disputes.id is exactly equal to payment_service_prod.public.maindb_pgp_disputes.dispute_id\n",
    "\n",
    "- We should join on id = dispute_id to combine base + labeled data."
   ]
  },
  {
   "cell_type": "markdown",
   "id": "673f5663-de20-47e6-9c40-c68cece29737",
   "metadata": {
    "collapsed": false,
    "name": "cell7"
   },
   "source": [
    "# fengyingyang.braintree_disputes & payment_service_prod.public.maindb_pgp_disputes"
   ]
  },
  {
   "cell_type": "markdown",
   "id": "019ffa45-f107-4b89-9855-9ce9a36fdd09",
   "metadata": {
    "collapsed": false,
    "name": "cell10"
   },
   "source": [
    "- COUNT of fengyingyang.braintree_disputes.dispute_id: 4261072\n",
    "- Missing in payment_service_prod.public.maindb_pgp_disputes.pgp_resource_id:  129846\n",
    "- 97% of fengyingyang.braintree_disputes.dispute_id are in payment_service_prod.public.maindb_pgp_disputes.pgp_resource_id\n",
    "- mismatch in status/pgp_code (3805038(90%) of them match both)\n",
    "- reason written in different ways: sequence of writing, fraud/fraudulance"
   ]
  },
  {
   "cell_type": "markdown",
   "id": "4cbf17fc-816b-40f0-bd65-4538b354bf77",
   "metadata": {
    "collapsed": false,
    "name": "cell15"
   },
   "source": [
    "QUESION:\n",
    "1. do i need to deal with reason discrepancy this week"
   ]
  },
  {
   "cell_type": "code",
   "execution_count": null,
   "id": "7a0aa312-1542-4c37-aa23-bf3f5cb8ef01",
   "metadata": {
    "language": "sql",
    "name": "cell6"
   },
   "outputs": [],
   "source": [
    "SELECT *\n",
    "FROM fengyingyang.braintree_disputes a\n",
    "LEFT JOIN payment_service_prod.public.maindb_pgp_disputes b\n",
    "  ON a.dispute_id = b.pgp_resource_id\n",
    "WHERE b.pgp_resource_id IS NULL;"
   ]
  },
  {
   "cell_type": "markdown",
   "id": "534407c1-1b0b-49bc-bedd-435232d04c6f",
   "metadata": {
    "collapsed": false,
    "name": "cell11"
   },
   "source": [
    "Example of mismatch in status and pgp_code\n",
    "\n",
    "??  payment_service_prod.public.maindb_pgp_disputes has pgp_code:['braintree', 'jpm', 'paypal', 'stripe']\n",
    " In the file https://docs.google.com/document/d/1Ebkm-I025jMjmL3r-jBxf7hBDI_vakwJEa3Av4sY6ME/edit?tab=t.0 it says pgp are Braintree, Stripe, JPM, and PayPal belongs to Network)\n",
    "\n",
    "- solve by just abandon them"
   ]
  },
  {
   "cell_type": "code",
   "execution_count": null,
   "id": "4753ed01-07d3-44a5-b704-e8daf260f657",
   "metadata": {
    "language": "sql",
    "name": "cell4"
   },
   "outputs": [],
   "source": [
    "SELECT *\n",
    "FROM payment_service_prod.public.maindb_pgp_disputes\n",
    "WHERE pgp_resource_id = 'nyzt534ky8c5vw3r'\n",
    "LIMIT 10;"
   ]
  },
  {
   "cell_type": "code",
   "execution_count": null,
   "id": "e2cc8702-b004-48b4-a635-e728170fa7a8",
   "metadata": {
    "language": "sql",
    "name": "cell8"
   },
   "outputs": [],
   "source": [
    "SELECT *\n",
    "FROM fengyingyang.braintree_disputes\n",
    "WHERE dispute_id = 'nyzt534ky8c5vw3r'\n",
    "LIMIT 10;"
   ]
  },
  {
   "cell_type": "markdown",
   "id": "df366a4a-292f-4229-9230-19e7bddd0335",
   "metadata": {
    "collapsed": false,
    "name": "cell14"
   },
   "source": [
    "Match count 90% on status and pgp_code, abandon the rest\n",
    "\n",
    "Now, we come to the last part: reason"
   ]
  },
  {
   "cell_type": "code",
   "execution_count": null,
   "id": "800f4535-f191-4401-ae03-c067d1279d58",
   "metadata": {
    "language": "sql",
    "name": "cell9"
   },
   "outputs": [],
   "source": [
    "SELECT COUNT(*) AS matched_status_count\n",
    "FROM fengyingyang.braintree_disputes a\n",
    "JOIN payment_service_prod.public.maindb_pgp_disputes b\n",
    "  ON a.dispute_id = b.pgp_resource_id\n",
    "WHERE a.status = b.status\n",
    "  AND b.pgp_code = 'braintree'\n"
   ]
  },
  {
   "cell_type": "markdown",
   "id": "b7d32736-d3d5-4d25-a3b0-f69fe6aed082",
   "metadata": {
    "collapsed": false,
    "name": "cell17"
   },
   "source": [
    "discrepancy between reasons\n",
    "95% fraud vs fraudulent\n",
    "- what about general vs transaction_amount_differs, there are 9743 of them.\n",
    "\n",
    "consider these below, 99.9% match\n",
    "\n",
    "- AND NOT (a.reason = 'fraud' AND b.reason = 'fraudulent')\n",
    "- AND NOT (a.reason = 'not_recognized' AND b.reason = 'unrecognized')\n",
    "-  AND NOT (a.reason = 'product_unsatisfactory' AND b.reason = 'product_unacceptable')\n",
    "- AND NOT (a.reason = 'cancelled_recurring_transaction' AND b.reason = 'subscription_canceled')\n",
    "- AND NOT (a.reason = 'invalid_account' AND b.reason = 'incorrect_account_details')\n",
    "-  AND NOT (a.reason = 'transaction_amount_differs' AND b.reason = 'general')"
   ]
  },
  {
   "cell_type": "code",
   "execution_count": null,
   "id": "d194fc38-2378-4570-81b9-862d8cb2c6b3",
   "metadata": {
    "language": "sql",
    "name": "cell16"
   },
   "outputs": [],
   "source": [
    "SELECT a.dispute_id,\n",
    "       a.reason AS bt_reason,\n",
    "       b.reason AS pgp_reason,\n",
    "       a.status,\n",
    "       b.status\n",
    "FROM fengyingyang.braintree_disputes a\n",
    "JOIN payment_service_prod.public.maindb_pgp_disputes b\n",
    "  ON a.dispute_id = b.pgp_resource_id\n",
    "  WHERE a.status = b.status\n",
    "  AND a.reason <> b.reason\n",
    "  AND NOT (a.reason = 'fraud' AND b.reason = 'fraudulent')\n",
    "  AND NOT (a.reason = 'not_recognized' AND b.reason = 'unrecognized')\n",
    "  AND NOT (a.reason = 'product_unsatisfactory' AND b.reason = 'product_unacceptable')\n",
    "  AND NOT (a.reason = 'cancelled_recurring_transaction' AND b.reason = 'subscription_canceled')\n",
    "  AND NOT (a.reason = 'invalid_account' AND b.reason = 'incorrect_account_details')\n",
    "  -- how should we consider these:\n",
    "  AND NOT (a.reason = 'transaction_amount_differs' AND b.reason = 'general')\n",
    "\n",
    "  --exclude equivalent mentioned above\n",
    "  AND NOT (a.reason = 'fraud' or b.reason = 'fraudulent')\n",
    "  AND NOT (a.reason = 'not_recognized' or b.reason = 'unrecognized')\n",
    "  AND NOT (a.reason = 'product_unsatisfactory' or b.reason = 'product_unacceptable')\n",
    "  AND NOT (a.reason = 'cancelled_recurring_transaction' or b.reason = 'subscription_canceled')\n",
    "  AND NOT (a.reason = 'invalid_account' or b.reason = 'incorrect_account_details')\n",
    "\n"
   ]
  },
  {
   "cell_type": "markdown",
   "id": "6e13ad8d-cc84-4ef2-b998-8567e2b5e372",
   "metadata": {
    "collapsed": false,
    "name": "cell19"
   },
   "source": [
    "# risk_data_platform_prod.public.maindb_dispute_history & payment_service_prod.public.maindb_pgp_disputes"
   ]
  },
  {
   "cell_type": "markdown",
   "id": "05145e37-5d26-4022-a74a-f1024db80787",
   "metadata": {
    "collapsed": false,
    "name": "cell22"
   },
   "source": [
    "- no reason mismatch\n",
    "- many status mismatch(why)"
   ]
  },
  {
   "cell_type": "code",
   "execution_count": null,
   "id": "ffc7c12a-b5d6-44a2-8fb5-2c7aead25fd1",
   "metadata": {
    "language": "sql",
    "name": "cell18"
   },
   "outputs": [],
   "source": [
    "SELECT h.dispute_id,\n",
    "       h.status AS history_status,\n",
    "       p.status AS pgp_status,\n",
    "       h.reason AS history_reason,\n",
    "       p.reason AS pgp_reason\n",
    "FROM risk_data_platform_prod.public.maindb_dispute_history h\n",
    "JOIN payment_service_prod.public.maindb_pgp_disputes p\n",
    "  ON h.dispute_id = p.dispute_id\n",
    "WHERE p.pgp_code = 'braintree'\n",
    "AND h.pgp_code = 'braintree';\n"
   ]
  },
  {
   "cell_type": "markdown",
   "id": "a0ff8ac3-3482-41f3-a6ca-5e7f175a58a3",
   "metadata": {
    "collapsed": false,
    "name": "cell24"
   },
   "source": [
    "Compare status and reason between dispute_history and pgp_disputes.\n",
    "\n",
    "Exclude:\n",
    "\n",
    "Disputes created after Jan 1, 2024 where history_status ≠ \"contested\"  and   p.status='needs_response'\n",
    "\n",
    "Disputes created before Jan 1, 2024 where status mismatch"
   ]
  },
  {
   "cell_type": "code",
   "execution_count": null,
   "id": "b4bb16b6-9034-4047-91aa-d5518347451a",
   "metadata": {
    "language": "sql",
    "name": "cell21"
   },
   "outputs": [],
   "source": [
    "SELECT h.dispute_id,\n",
    "       h.status AS history_status,\n",
    "       p.status AS pgp_status,\n",
    "       h.reason AS history_reason,\n",
    "       p.reason AS pgp_reason,\n",
    "       h.charge_date\n",
    "FROM risk_data_platform_prod.public.maindb_dispute_history h\n",
    "JOIN payment_service_prod.public.maindb_pgp_disputes p\n",
    "  ON h.dispute_id = p.dispute_id\n",
    "WHERE p.pgp_code = 'braintree'\n",
    "  AND (\n",
    "    -- Pre-2024: include only if status matches\n",
    "    (h.charge_date < '2024-01-01' AND h.status = p.status)\n",
    "\n",
    "    -- Post-2024: include only if contested and PGP status is meaningful\n",
    "    OR (h.charge_date >= '2024-01-01' AND h.status = 'Contested' AND p.status <> 'needs_response')\n",
    "  );\n"
   ]
  },
  {
   "cell_type": "code",
   "execution_count": null,
   "id": "bd499243-3c17-44be-823b-23f0673f5f61",
   "metadata": {
    "language": "sql",
    "name": "cell23"
   },
   "outputs": [],
   "source": [
    "-- no reason msmatch\n",
    "SELECT COUNT(*) AS mismatch_count\n",
    "FROM risk_data_platform_prod.public.maindb_dispute_history h\n",
    "JOIN payment_service_prod.public.maindb_pgp_disputes p\n",
    "  ON h.dispute_id = p.dispute_id\n",
    "WHERE p.pgp_code = 'braintree'\n",
    "  AND (\n",
    "    h.reason <> p.reason\n",
    "  );\n"
   ]
  }
 ],
 "metadata": {
  "kernelspec": {
   "display_name": "Streamlit Notebook",
   "name": "streamlit"
  },
  "lastEditStatus": {
   "authorEmail": "rachel.yuan@doordash.com",
   "authorId": "7567117424451",
   "authorName": "RACHEL.YUAN",
   "lastEditTime": 1750752158256,
   "notebookId": "rviuiqg3ay756r2t7wfp",
   "sessionId": "e2fce22e-cfa0-4209-8ce8-74b0e448edee"
  }
 },
 "nbformat": 4,
 "nbformat_minor": 5
}
